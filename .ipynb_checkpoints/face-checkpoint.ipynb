{
 "cells": [
  {
   "cell_type": "code",
   "execution_count": 7,
   "id": "3d76b643",
   "metadata": {},
   "outputs": [
    {
     "name": "stdout",
     "output_type": "stream",
     "text": [
      "['1.png', '2.png', '3.png', '4.png']\n",
      "encodefile loaded\n",
      "['1001', '1002', '1003']\n",
      "encodefile loaded compelt6e \n"
     ]
    },
    {
     "ename": "NameError",
     "evalue": "name 'faceLoc' is not defined",
     "output_type": "error",
     "traceback": [
      "\u001b[1;31m---------------------------------------------------------------------------\u001b[0m",
      "\u001b[1;31mNameError\u001b[0m                                 Traceback (most recent call last)",
      "Cell \u001b[1;32mIn[7], line 45\u001b[0m\n\u001b[0;32m     43\u001b[0m     \u001b[38;5;28mprint\u001b[39m(\u001b[38;5;124m\"\u001b[39m\u001b[38;5;124mmatches\u001b[39m\u001b[38;5;124m\"\u001b[39m,matches)\n\u001b[0;32m     44\u001b[0m    \u001b[38;5;66;03m# print(\"faceDis\",faceDis)\u001b[39;00m\n\u001b[1;32m---> 45\u001b[0m y1, x2, y2, x1 \u001b[38;5;241m=\u001b[39m \u001b[43mfaceLoc\u001b[49m\n\u001b[0;32m     46\u001b[0m y1 , x2, y1 , x1 \u001b[38;5;241m=\u001b[39m y1\u001b[38;5;241m*\u001b[39m\u001b[38;5;241m4\u001b[39m, x2\u001b[38;5;241m*\u001b[39m\u001b[38;5;241m4\u001b[39m,y2\u001b[38;5;241m*\u001b[39m\u001b[38;5;241m4\u001b[39m,x1\u001b[38;5;241m*\u001b[39m\u001b[38;5;241m4\u001b[39m\n\u001b[0;32m     47\u001b[0m bbox \u001b[38;5;241m=\u001b[39m \u001b[38;5;241m55\u001b[39m\u001b[38;5;241m*\u001b[39mx1 , \u001b[38;5;241m162\u001b[39m \u001b[38;5;241m+\u001b[39my1,x2\u001b[38;5;241m-\u001b[39mx2,y2\u001b[38;5;241m-\u001b[39my1\n",
      "\u001b[1;31mNameError\u001b[0m: name 'faceLoc' is not defined"
     ]
    }
   ],
   "source": [
    "import cv2 \n",
    "import os \n",
    "import pickle\n",
    "import cvzone\n",
    "import face_recognition\n",
    "cap = cv2.VideoCapture(0)\n",
    "cap.set(3,640)\n",
    "cap.set(4,480)\n",
    "\n",
    "imgBackground = cv2.imread('background.png')\n",
    "\n",
    "folderModePath = 'Modes'\n",
    "modePathList = os.listdir(folderModePath)\n",
    "print(modePathList)\n",
    "imgModeList = []\n",
    "for path in folderModePath:\n",
    "\timgModeList.append(cv2.imread(os.path.join(folderModePath,path)))\n",
    "    \n",
    "print(\"encodefile loaded\")\n",
    "\n",
    "file = open('EncodeFile.p','rb')\n",
    "encodeListKnownWithIds = pickle.load(file)\n",
    "file.close()\n",
    "encodeListKnown, studentIds = encodeListKnownWithIds\n",
    "print(studentIds)\n",
    "\n",
    "print(\"encodefile loaded compelt6e \")\n",
    "while True:\n",
    "    ret , frame = cap.read()\n",
    "    \n",
    "    imgs = cv2.resize(frame, (0,0), None,0.25,0.25)\n",
    "    #imgs = cv2.cvtColor(imgs, cv2.COLOR_BGR2RBG)\n",
    "    faceCurFrame = face_recognition.face_locations(imgs)\n",
    "    encodeCurFrame = face_recognition.face_encodings(imgs,faceCurFrame)\n",
    "    \n",
    "    \n",
    "    imgBackground[162:162+480,55:55+640] = frame\n",
    "    #imgBackground[44:44 + 633 , 808:808 + 414] = imgModeList[1]\n",
    "    \n",
    "    for encodeface, faceLoc in zip(encodeCurFrame, faceCurFrame):\n",
    "        matches = face_recognition.compare_faces(encodeListKnown,encodeface)\n",
    "        faceDis = face_recognition.face_distance(encodeListKnown,encodeface)\n",
    "        print(\"matches\",matches)\n",
    "       # print(\"faceDis\",faceDis)\n",
    "    y1, x2, y2, x1 = faceLoc\n",
    "    y1 , x2, y1 , x1 = y1*4, x2*4,y2*4,x1*4\n",
    "    bbox = 55*x1 , 162 +y1,x2-x2,y2-y1\n",
    "    frame = cvzone.cornerRect(imgBackground, bbox ,rt=0)\n",
    "    \n",
    "    cv2.imshow('face',imgBackground)\n",
    "    cv2.waitKeyEx(1)\n",
    "    "
   ]
  },
  {
   "cell_type": "code",
   "execution_count": null,
   "id": "7cf420ff",
   "metadata": {},
   "outputs": [],
   "source": []
  }
 ],
 "metadata": {
  "kernelspec": {
   "display_name": "Python 3 (ipykernel)",
   "language": "python",
   "name": "python3"
  },
  "language_info": {
   "codemirror_mode": {
    "name": "ipython",
    "version": 3
   },
   "file_extension": ".py",
   "mimetype": "text/x-python",
   "name": "python",
   "nbconvert_exporter": "python",
   "pygments_lexer": "ipython3",
   "version": "3.10.9"
  }
 },
 "nbformat": 4,
 "nbformat_minor": 5
}
